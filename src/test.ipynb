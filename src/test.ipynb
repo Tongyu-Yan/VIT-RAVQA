{
 "cells": [
  {
   "cell_type": "code",
   "execution_count": 11,
   "metadata": {},
   "outputs": [],
   "source": [
    "from data_loader_manager.data_loader_okvqa import DataLoaderOKVQA\n",
    "from utils.config_system import get_config_from_json, process_config\n",
    "import argparse\n",
    "from easydict import EasyDict"
   ]
  },
  {
   "cell_type": "code",
   "execution_count": 8,
   "metadata": {},
   "outputs": [],
   "source": [
    "jsonfile = '/Users/tonyyan/Desktop/Tony_VQA/Tony-VQA/configs/okvqa/DPR1.jsonnet'\n",
    "config, config_dict = get_config_from_json(jsonfile)\n",
    "args = argparse.Namespace(config=jsonfile, reset='your_value', mode='your_value', \n",
    "                           experiment_name='your_value', modules=[], tags=[], \n",
    "                           test_batch_size=-1, test_evaluation_name='', opts=[])\n",
    "\n",
    "# Now pass this mock namespace to process_config\n",
    "config = process_config(args)"
   ]
  },
  {
   "cell_type": "code",
   "execution_count": 9,
   "metadata": {},
   "outputs": [
    {
     "name": "stderr",
     "output_type": "stream",
     "text": [
      "The tokenizer class you load from this checkpoint is not the same type as the class this function is called from. It may result in unexpected tokenization. \n",
      "The tokenizer class you load from this checkpoint is 'DPRQuestionEncoderTokenizer'. \n",
      "The class this function is called from is 'DPRContextEncoderTokenizer'.\n"
     ]
    }
   ],
   "source": [
    "dataloader = DataLoaderOKVQA(config)"
   ]
  },
  {
   "cell_type": "code",
   "execution_count": 14,
   "metadata": {},
   "outputs": [
    {
     "ename": "AttributeError",
     "evalue": "'EasyDict' object has no attribute 'vqa_data_path'",
     "output_type": "error",
     "traceback": [
      "\u001b[0;31m---------------------------------------------------------------------------\u001b[0m",
      "\u001b[0;31mAttributeError\u001b[0m                            Traceback (most recent call last)",
      "\u001b[1;32m/Users/tonyyan/Desktop/Tony_VQA/Tony-VQA/src/test.ipynb Cell 4\u001b[0m line \u001b[0;36m4\n\u001b[1;32m      <a href='vscode-notebook-cell:/Users/tonyyan/Desktop/Tony_VQA/Tony-VQA/src/test.ipynb#W3sZmlsZQ%3D%3D?line=1'>2</a>\u001b[0m \u001b[39mfor\u001b[39;00m dataset_module \u001b[39min\u001b[39;00m dataset_modules:\n\u001b[1;32m      <a href='vscode-notebook-cell:/Users/tonyyan/Desktop/Tony_VQA/Tony-VQA/src/test.ipynb#W3sZmlsZQ%3D%3D?line=2'>3</a>\u001b[0m     module_config \u001b[39m=\u001b[39m config\u001b[39m.\u001b[39mdata_loader\u001b[39m.\u001b[39mdataset_modules\u001b[39m.\u001b[39mmodule_dict[dataset_module]\n\u001b[0;32m----> <a href='vscode-notebook-cell:/Users/tonyyan/Desktop/Tony_VQA/Tony-VQA/src/test.ipynb#W3sZmlsZQ%3D%3D?line=3'>4</a>\u001b[0m data \u001b[39m=\u001b[39m dataloader\u001b[39m.\u001b[39;49mLoadOKVQAData(module_config)\n",
      "File \u001b[0;32m~/Desktop/Tony_VQA/Tony-VQA/src/data_loader_manager/data_loader_okvqa.py:245\u001b[0m, in \u001b[0;36mDataLoaderOKVQA.LoadOKVQAData\u001b[0;34m(self, module_config)\u001b[0m\n\u001b[1;32m    241\u001b[0m     \u001b[39mreturn\u001b[39;00m \u001b[39mmax\u001b[39m(\u001b[39mset\u001b[39m(List), key \u001b[39m=\u001b[39m List\u001b[39m.\u001b[39mcount)\n\u001b[1;32m    243\u001b[0m answer_candidate_list \u001b[39m=\u001b[39m []\n\u001b[1;32m    244\u001b[0m vqa_helpers \u001b[39m=\u001b[39m EasyDict({\n\u001b[0;32m--> 245\u001b[0m     \u001b[39m'\u001b[39m\u001b[39mtrain\u001b[39m\u001b[39m'\u001b[39m: VQA(module_config\u001b[39m.\u001b[39;49mconfig\u001b[39m.\u001b[39;49mvqa_data_path\u001b[39m.\u001b[39mannotation_files\u001b[39m.\u001b[39mtrain, \n\u001b[1;32m    246\u001b[0m                     module_config\u001b[39m.\u001b[39mconfig\u001b[39m.\u001b[39mvqa_data_path\u001b[39m.\u001b[39mquestion_files\u001b[39m.\u001b[39mtrain),\n\u001b[1;32m    247\u001b[0m     \u001b[39m'\u001b[39m\u001b[39mtest\u001b[39m\u001b[39m'\u001b[39m: VQA(module_config\u001b[39m.\u001b[39mconfig\u001b[39m.\u001b[39mvqa_data_path\u001b[39m.\u001b[39mannotation_files\u001b[39m.\u001b[39mtest, \n\u001b[1;32m    248\u001b[0m                     module_config\u001b[39m.\u001b[39mconfig\u001b[39m.\u001b[39mvqa_data_path\u001b[39m.\u001b[39mquestion_files\u001b[39m.\u001b[39mtest),\n\u001b[1;32m    249\u001b[0m })\n\u001b[1;32m    251\u001b[0m \u001b[39mself\u001b[39m\u001b[39m.\u001b[39mdata\u001b[39m.\u001b[39mokvqa_data \u001b[39m=\u001b[39m EasyDict({\n\u001b[1;32m    252\u001b[0m     \u001b[39m'\u001b[39m\u001b[39mtrain\u001b[39m\u001b[39m'\u001b[39m: {},\n\u001b[1;32m    253\u001b[0m     \u001b[39m'\u001b[39m\u001b[39mtest\u001b[39m\u001b[39m'\u001b[39m: {},\n\u001b[0;32m   (...)\u001b[0m\n\u001b[1;32m    256\u001b[0m     \u001b[39m'\u001b[39m\u001b[39mvqa_helpers\u001b[39m\u001b[39m'\u001b[39m: vqa_helpers,\n\u001b[1;32m    257\u001b[0m })\n\u001b[1;32m    260\u001b[0m \u001b[39m######################\u001b[39;00m\n\u001b[1;32m    261\u001b[0m \u001b[39m# Loadimg function\u001b[39;00m\n\u001b[1;32m    262\u001b[0m \u001b[39m######################\u001b[39;00m\n\u001b[1;32m    263\u001b[0m \u001b[39m# Add this to your existing data loading method\u001b[39;00m\n",
      "\u001b[0;31mAttributeError\u001b[0m: 'EasyDict' object has no attribute 'vqa_data_path'"
     ]
    }
   ],
   "source": [
    "dataset_modules = config.data_loader.dataset_modules.module_list\n",
    "for dataset_module in dataset_modules:\n",
    "    module_config = config.data_loader.dataset_modules.module_dict[dataset_module]\n",
    "data = dataloader.LoadOKVQAData(module_config)"
   ]
  },
  {
   "cell_type": "code",
   "execution_count": 13,
   "metadata": {},
   "outputs": [
    {
     "ename": "AttributeError",
     "evalue": "'EasyDict' object has no attribute 'vqa_data_path'",
     "output_type": "error",
     "traceback": [
      "\u001b[0;31m---------------------------------------------------------------------------\u001b[0m",
      "\u001b[0;31mAttributeError\u001b[0m                            Traceback (most recent call last)",
      "\u001b[1;32m/Users/tonyyan/Desktop/Tony_VQA/Tony-VQA/src/test.ipynb Cell 5\u001b[0m line \u001b[0;36m1\n\u001b[0;32m----> <a href='vscode-notebook-cell:/Users/tonyyan/Desktop/Tony_VQA/Tony-VQA/src/test.ipynb#W4sZmlsZQ%3D%3D?line=0'>1</a>\u001b[0m data \u001b[39m=\u001b[39m dataloader\u001b[39m.\u001b[39;49mLoadOKVQAData(module_config)\n",
      "File \u001b[0;32m~/Desktop/Tony_VQA/Tony-VQA/src/data_loader_manager/data_loader_okvqa.py:245\u001b[0m, in \u001b[0;36mDataLoaderOKVQA.LoadOKVQAData\u001b[0;34m(self, module_config)\u001b[0m\n\u001b[1;32m    241\u001b[0m     \u001b[39mreturn\u001b[39;00m \u001b[39mmax\u001b[39m(\u001b[39mset\u001b[39m(List), key \u001b[39m=\u001b[39m List\u001b[39m.\u001b[39mcount)\n\u001b[1;32m    243\u001b[0m answer_candidate_list \u001b[39m=\u001b[39m []\n\u001b[1;32m    244\u001b[0m vqa_helpers \u001b[39m=\u001b[39m EasyDict({\n\u001b[0;32m--> 245\u001b[0m     \u001b[39m'\u001b[39m\u001b[39mtrain\u001b[39m\u001b[39m'\u001b[39m: VQA(module_config\u001b[39m.\u001b[39;49mconfig\u001b[39m.\u001b[39;49mvqa_data_path\u001b[39m.\u001b[39mannotation_files\u001b[39m.\u001b[39mtrain, \n\u001b[1;32m    246\u001b[0m                     module_config\u001b[39m.\u001b[39mconfig\u001b[39m.\u001b[39mvqa_data_path\u001b[39m.\u001b[39mquestion_files\u001b[39m.\u001b[39mtrain),\n\u001b[1;32m    247\u001b[0m     \u001b[39m'\u001b[39m\u001b[39mtest\u001b[39m\u001b[39m'\u001b[39m: VQA(module_config\u001b[39m.\u001b[39mconfig\u001b[39m.\u001b[39mvqa_data_path\u001b[39m.\u001b[39mannotation_files\u001b[39m.\u001b[39mtest, \n\u001b[1;32m    248\u001b[0m                     module_config\u001b[39m.\u001b[39mconfig\u001b[39m.\u001b[39mvqa_data_path\u001b[39m.\u001b[39mquestion_files\u001b[39m.\u001b[39mtest),\n\u001b[1;32m    249\u001b[0m })\n\u001b[1;32m    251\u001b[0m \u001b[39mself\u001b[39m\u001b[39m.\u001b[39mdata\u001b[39m.\u001b[39mokvqa_data \u001b[39m=\u001b[39m EasyDict({\n\u001b[1;32m    252\u001b[0m     \u001b[39m'\u001b[39m\u001b[39mtrain\u001b[39m\u001b[39m'\u001b[39m: {},\n\u001b[1;32m    253\u001b[0m     \u001b[39m'\u001b[39m\u001b[39mtest\u001b[39m\u001b[39m'\u001b[39m: {},\n\u001b[0;32m   (...)\u001b[0m\n\u001b[1;32m    256\u001b[0m     \u001b[39m'\u001b[39m\u001b[39mvqa_helpers\u001b[39m\u001b[39m'\u001b[39m: vqa_helpers,\n\u001b[1;32m    257\u001b[0m })\n\u001b[1;32m    260\u001b[0m \u001b[39m######################\u001b[39;00m\n\u001b[1;32m    261\u001b[0m \u001b[39m# Loadimg function\u001b[39;00m\n\u001b[1;32m    262\u001b[0m \u001b[39m######################\u001b[39;00m\n\u001b[1;32m    263\u001b[0m \u001b[39m# Add this to your existing data loading method\u001b[39;00m\n",
      "\u001b[0;31mAttributeError\u001b[0m: 'EasyDict' object has no attribute 'vqa_data_path'"
     ]
    }
   ],
   "source": []
  },
  {
   "cell_type": "code",
   "execution_count": null,
   "metadata": {},
   "outputs": [],
   "source": []
  }
 ],
 "metadata": {
  "kernelspec": {
   "display_name": "RAVQA",
   "language": "python",
   "name": "python3"
  },
  "language_info": {
   "codemirror_mode": {
    "name": "ipython",
    "version": 3
   },
   "file_extension": ".py",
   "mimetype": "text/x-python",
   "name": "python",
   "nbconvert_exporter": "python",
   "pygments_lexer": "ipython3",
   "version": "3.8.18"
  }
 },
 "nbformat": 4,
 "nbformat_minor": 2
}
